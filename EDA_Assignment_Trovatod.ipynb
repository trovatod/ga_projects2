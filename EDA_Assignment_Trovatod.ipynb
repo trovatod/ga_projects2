{
 "cells": [
  {
   "cell_type": "markdown",
   "metadata": {},
   "source": [
    "# Exploratory Data Analysis Assignment - Zillow Home Research"
   ]
  },
  {
   "cell_type": "markdown",
   "metadata": {},
   "source": [
    "### Daniel Trovato"
   ]
  },
  {
   "cell_type": "markdown",
   "metadata": {},
   "source": [
    "This EDA looks at the Zillow Research Dataset - City Time Series data to identify insights in the US housing market. Helpful as I'm currently looking for a home! More info here: \"https://www.zillow.com/research/data/\" and here: \"https://www.kaggle.com/zillow/zecon/home\""
   ]
  },
  {
   "cell_type": "code",
   "execution_count": 71,
   "metadata": {},
   "outputs": [],
   "source": [
    "#Importing the python packages\n",
    "%matplotlib inline\n",
    "import matplotlib.pyplot as plt\n",
    "import numpy as np\n",
    "import pandas as pd\n",
    "import seaborn as sns"
   ]
  },
  {
   "cell_type": "code",
   "execution_count": 72,
   "metadata": {},
   "outputs": [],
   "source": [
    "#Loading the data\n",
    "zillowdata = pd.read_csv('data/City_time_series.csv')"
   ]
  },
  {
   "cell_type": "code",
   "execution_count": 6,
   "metadata": {},
   "outputs": [
    {
     "name": "stdout",
     "output_type": "stream",
     "text": [
      "<class 'pandas.core.frame.DataFrame'>\n",
      "RangeIndex: 3762566 entries, 0 to 3762565\n",
      "Data columns (total 81 columns):\n",
      "Date                                                             object\n",
      "RegionName                                                       object\n",
      "InventorySeasonallyAdjusted_AllHomes                             float64\n",
      "InventoryRaw_AllHomes                                            float64\n",
      "MedianListingPricePerSqft_1Bedroom                               float64\n",
      "MedianListingPricePerSqft_2Bedroom                               float64\n",
      "MedianListingPricePerSqft_3Bedroom                               float64\n",
      "MedianListingPricePerSqft_4Bedroom                               float64\n",
      "MedianListingPricePerSqft_5BedroomOrMore                         float64\n",
      "MedianListingPricePerSqft_AllHomes                               float64\n",
      "MedianListingPricePerSqft_CondoCoop                              float64\n",
      "MedianListingPricePerSqft_DuplexTriplex                          float64\n",
      "MedianListingPricePerSqft_SingleFamilyResidence                  float64\n",
      "MedianListingPrice_1Bedroom                                      float64\n",
      "MedianListingPrice_2Bedroom                                      float64\n",
      "MedianListingPrice_3Bedroom                                      float64\n",
      "MedianListingPrice_4Bedroom                                      float64\n",
      "MedianListingPrice_5BedroomOrMore                                float64\n",
      "MedianListingPrice_AllHomes                                      float64\n",
      "MedianListingPrice_CondoCoop                                     float64\n",
      "MedianListingPrice_DuplexTriplex                                 float64\n",
      "MedianListingPrice_SingleFamilyResidence                         float64\n",
      "MedianPctOfPriceReduction_AllHomes                               float64\n",
      "MedianPctOfPriceReduction_CondoCoop                              float64\n",
      "MedianPctOfPriceReduction_SingleFamilyResidence                  float64\n",
      "MedianPriceCutDollar_AllHomes                                    float64\n",
      "MedianPriceCutDollar_CondoCoop                                   float64\n",
      "MedianPriceCutDollar_SingleFamilyResidence                       float64\n",
      "MedianRentalPricePerSqft_1Bedroom                                float64\n",
      "MedianRentalPricePerSqft_2Bedroom                                float64\n",
      "MedianRentalPricePerSqft_3Bedroom                                float64\n",
      "MedianRentalPricePerSqft_4Bedroom                                float64\n",
      "MedianRentalPricePerSqft_5BedroomOrMore                          float64\n",
      "MedianRentalPricePerSqft_AllHomes                                float64\n",
      "MedianRentalPricePerSqft_CondoCoop                               float64\n",
      "MedianRentalPricePerSqft_DuplexTriplex                           float64\n",
      "MedianRentalPricePerSqft_MultiFamilyResidence5PlusUnits          float64\n",
      "MedianRentalPricePerSqft_SingleFamilyResidence                   float64\n",
      "MedianRentalPricePerSqft_Studio                                  float64\n",
      "MedianRentalPrice_1Bedroom                                       float64\n",
      "MedianRentalPrice_2Bedroom                                       float64\n",
      "MedianRentalPrice_3Bedroom                                       float64\n",
      "MedianRentalPrice_4Bedroom                                       float64\n",
      "MedianRentalPrice_5BedroomOrMore                                 float64\n",
      "MedianRentalPrice_AllHomes                                       float64\n",
      "MedianRentalPrice_CondoCoop                                      float64\n",
      "MedianRentalPrice_DuplexTriplex                                  float64\n",
      "MedianRentalPrice_MultiFamilyResidence5PlusUnits                 float64\n",
      "MedianRentalPrice_SingleFamilyResidence                          float64\n",
      "MedianRentalPrice_Studio                                         float64\n",
      "ZHVIPerSqft_AllHomes                                             float64\n",
      "PctOfHomesDecreasingInValues_AllHomes                            float64\n",
      "PctOfHomesIncreasingInValues_AllHomes                            float64\n",
      "PctOfHomesSellingForGain_AllHomes                                float64\n",
      "PctOfHomesSellingForLoss_AllHomes                                float64\n",
      "PctOfListingsWithPriceReductionsSeasAdj_AllHomes                 float64\n",
      "PctOfListingsWithPriceReductionsSeasAdj_CondoCoop                float64\n",
      "PctOfListingsWithPriceReductionsSeasAdj_SingleFamilyResidence    float64\n",
      "PctOfListingsWithPriceReductions_AllHomes                        float64\n",
      "PctOfListingsWithPriceReductions_CondoCoop                       float64\n",
      "PctOfListingsWithPriceReductions_SingleFamilyResidence           float64\n",
      "PriceToRentRatio_AllHomes                                        float64\n",
      "Sale_Counts                                                      float64\n",
      "Sale_Counts_Seas_Adj                                             float64\n",
      "Sale_Prices                                                      float64\n",
      "ZHVI_1bedroom                                                    float64\n",
      "ZHVI_2bedroom                                                    float64\n",
      "ZHVI_3bedroom                                                    float64\n",
      "ZHVI_4bedroom                                                    float64\n",
      "ZHVI_5BedroomOrMore                                              float64\n",
      "ZHVI_AllHomes                                                    float64\n",
      "ZHVI_BottomTier                                                  float64\n",
      "ZHVI_CondoCoop                                                   float64\n",
      "ZHVI_MiddleTier                                                  float64\n",
      "ZHVI_SingleFamilyResidence                                       float64\n",
      "ZHVI_TopTier                                                     float64\n",
      "ZRI_AllHomes                                                     float64\n",
      "ZRI_AllHomesPlusMultifamily                                      float64\n",
      "ZriPerSqft_AllHomes                                              float64\n",
      "Zri_MultiFamilyResidenceRental                                   float64\n",
      "Zri_SingleFamilyResidenceRental                                  float64\n",
      "dtypes: float64(79), object(2)\n",
      "memory usage: 2.3+ GB\n"
     ]
    }
   ],
   "source": [
    "#Understanding what data is available and column types\n",
    "zillowdata.info()"
   ]
  },
  {
   "cell_type": "code",
   "execution_count": 34,
   "metadata": {},
   "outputs": [
    {
     "data": {
      "text/html": [
       "<div>\n",
       "<style scoped>\n",
       "    .dataframe tbody tr th:only-of-type {\n",
       "        vertical-align: middle;\n",
       "    }\n",
       "\n",
       "    .dataframe tbody tr th {\n",
       "        vertical-align: top;\n",
       "    }\n",
       "\n",
       "    .dataframe thead th {\n",
       "        text-align: right;\n",
       "    }\n",
       "</style>\n",
       "<table border=\"1\" class=\"dataframe\">\n",
       "  <thead>\n",
       "    <tr style=\"text-align: right;\">\n",
       "      <th></th>\n",
       "      <th>InventorySeasonallyAdjusted_AllHomes</th>\n",
       "      <th>InventoryRaw_AllHomes</th>\n",
       "      <th>MedianListingPricePerSqft_1Bedroom</th>\n",
       "      <th>MedianListingPricePerSqft_2Bedroom</th>\n",
       "      <th>MedianListingPricePerSqft_3Bedroom</th>\n",
       "      <th>MedianListingPricePerSqft_4Bedroom</th>\n",
       "      <th>MedianListingPricePerSqft_5BedroomOrMore</th>\n",
       "      <th>MedianListingPricePerSqft_AllHomes</th>\n",
       "      <th>MedianListingPricePerSqft_CondoCoop</th>\n",
       "      <th>MedianListingPricePerSqft_DuplexTriplex</th>\n",
       "      <th>...</th>\n",
       "      <th>ZHVI_BottomTier</th>\n",
       "      <th>ZHVI_CondoCoop</th>\n",
       "      <th>ZHVI_MiddleTier</th>\n",
       "      <th>ZHVI_SingleFamilyResidence</th>\n",
       "      <th>ZHVI_TopTier</th>\n",
       "      <th>ZRI_AllHomes</th>\n",
       "      <th>ZRI_AllHomesPlusMultifamily</th>\n",
       "      <th>ZriPerSqft_AllHomes</th>\n",
       "      <th>Zri_MultiFamilyResidenceRental</th>\n",
       "      <th>Zri_SingleFamilyResidenceRental</th>\n",
       "    </tr>\n",
       "  </thead>\n",
       "  <tbody>\n",
       "    <tr>\n",
       "      <th>count</th>\n",
       "      <td>771744.000000</td>\n",
       "      <td>771744.000000</td>\n",
       "      <td>7670.000000</td>\n",
       "      <td>74574.000000</td>\n",
       "      <td>250633.000000</td>\n",
       "      <td>144183.000000</td>\n",
       "      <td>37653.000000</td>\n",
       "      <td>551975.000000</td>\n",
       "      <td>54821.000000</td>\n",
       "      <td>7584.000000</td>\n",
       "      <td>...</td>\n",
       "      <td>2.599397e+06</td>\n",
       "      <td>8.235740e+05</td>\n",
       "      <td>3.077548e+06</td>\n",
       "      <td>3.075331e+06</td>\n",
       "      <td>3.115759e+06</td>\n",
       "      <td>1.098167e+06</td>\n",
       "      <td>1.100850e+06</td>\n",
       "      <td>1.009397e+06</td>\n",
       "      <td>450219.000000</td>\n",
       "      <td>1.098919e+06</td>\n",
       "    </tr>\n",
       "    <tr>\n",
       "      <th>mean</th>\n",
       "      <td>163.438201</td>\n",
       "      <td>163.469371</td>\n",
       "      <td>260.912038</td>\n",
       "      <td>167.764079</td>\n",
       "      <td>145.076803</td>\n",
       "      <td>154.369271</td>\n",
       "      <td>193.162108</td>\n",
       "      <td>151.277372</td>\n",
       "      <td>207.499579</td>\n",
       "      <td>102.725920</td>\n",
       "      <td>...</td>\n",
       "      <td>1.445351e+05</td>\n",
       "      <td>1.826798e+05</td>\n",
       "      <td>1.898498e+05</td>\n",
       "      <td>1.967398e+05</td>\n",
       "      <td>2.802083e+05</td>\n",
       "      <td>1.402930e+03</td>\n",
       "      <td>1.391671e+03</td>\n",
       "      <td>9.108979e-01</td>\n",
       "      <td>1322.360111</td>\n",
       "      <td>1.424704e+03</td>\n",
       "    </tr>\n",
       "    <tr>\n",
       "      <th>std</th>\n",
       "      <td>451.979813</td>\n",
       "      <td>452.845056</td>\n",
       "      <td>169.798120</td>\n",
       "      <td>118.391115</td>\n",
       "      <td>93.495189</td>\n",
       "      <td>98.637567</td>\n",
       "      <td>163.339295</td>\n",
       "      <td>100.278583</td>\n",
       "      <td>139.111165</td>\n",
       "      <td>98.811634</td>\n",
       "      <td>...</td>\n",
       "      <td>1.271271e+05</td>\n",
       "      <td>1.233000e+05</td>\n",
       "      <td>1.791446e+05</td>\n",
       "      <td>1.969876e+05</td>\n",
       "      <td>2.974863e+05</td>\n",
       "      <td>7.509482e+02</td>\n",
       "      <td>7.282890e+02</td>\n",
       "      <td>3.361167e-01</td>\n",
       "      <td>528.027246</td>\n",
       "      <td>8.083801e+02</td>\n",
       "    </tr>\n",
       "    <tr>\n",
       "      <th>min</th>\n",
       "      <td>3.000000</td>\n",
       "      <td>2.000000</td>\n",
       "      <td>26.422764</td>\n",
       "      <td>18.564356</td>\n",
       "      <td>19.561061</td>\n",
       "      <td>20.084340</td>\n",
       "      <td>13.507109</td>\n",
       "      <td>20.293026</td>\n",
       "      <td>33.783784</td>\n",
       "      <td>13.849547</td>\n",
       "      <td>...</td>\n",
       "      <td>1.620000e+04</td>\n",
       "      <td>2.650000e+04</td>\n",
       "      <td>1.660000e+04</td>\n",
       "      <td>1.660000e+04</td>\n",
       "      <td>2.390000e+04</td>\n",
       "      <td>4.700000e+02</td>\n",
       "      <td>4.700000e+02</td>\n",
       "      <td>3.440000e-01</td>\n",
       "      <td>465.000000</td>\n",
       "      <td>4.700000e+02</td>\n",
       "    </tr>\n",
       "    <tr>\n",
       "      <th>25%</th>\n",
       "      <td>37.000000</td>\n",
       "      <td>37.000000</td>\n",
       "      <td>152.631579</td>\n",
       "      <td>95.744681</td>\n",
       "      <td>93.259047</td>\n",
       "      <td>100.187527</td>\n",
       "      <td>104.269883</td>\n",
       "      <td>93.436666</td>\n",
       "      <td>119.265026</td>\n",
       "      <td>46.080614</td>\n",
       "      <td>...</td>\n",
       "      <td>7.500000e+04</td>\n",
       "      <td>1.076000e+05</td>\n",
       "      <td>9.930000e+04</td>\n",
       "      <td>9.990000e+04</td>\n",
       "      <td>1.458000e+05</td>\n",
       "      <td>9.970000e+02</td>\n",
       "      <td>9.930000e+02</td>\n",
       "      <td>6.980000e-01</td>\n",
       "      <td>963.000000</td>\n",
       "      <td>9.970000e+02</td>\n",
       "    </tr>\n",
       "    <tr>\n",
       "      <th>50%</th>\n",
       "      <td>72.000000</td>\n",
       "      <td>72.000000</td>\n",
       "      <td>211.220755</td>\n",
       "      <td>133.341651</td>\n",
       "      <td>120.592248</td>\n",
       "      <td>126.864068</td>\n",
       "      <td>140.528604</td>\n",
       "      <td>124.423276</td>\n",
       "      <td>165.359396</td>\n",
       "      <td>73.041174</td>\n",
       "      <td>...</td>\n",
       "      <td>1.109000e+05</td>\n",
       "      <td>1.471000e+05</td>\n",
       "      <td>1.426000e+05</td>\n",
       "      <td>1.444000e+05</td>\n",
       "      <td>2.068000e+05</td>\n",
       "      <td>1.227000e+03</td>\n",
       "      <td>1.222000e+03</td>\n",
       "      <td>8.320000e-01</td>\n",
       "      <td>1220.000000</td>\n",
       "      <td>1.231000e+03</td>\n",
       "    </tr>\n",
       "    <tr>\n",
       "      <th>75%</th>\n",
       "      <td>154.000000</td>\n",
       "      <td>154.000000</td>\n",
       "      <td>326.499714</td>\n",
       "      <td>195.039238</td>\n",
       "      <td>163.556465</td>\n",
       "      <td>171.834625</td>\n",
       "      <td>217.749529</td>\n",
       "      <td>172.413793</td>\n",
       "      <td>255.524154</td>\n",
       "      <td>123.478987</td>\n",
       "      <td>...</td>\n",
       "      <td>1.671000e+05</td>\n",
       "      <td>2.174000e+05</td>\n",
       "      <td>2.180000e+05</td>\n",
       "      <td>2.236000e+05</td>\n",
       "      <td>3.132000e+05</td>\n",
       "      <td>1.555000e+03</td>\n",
       "      <td>1.545000e+03</td>\n",
       "      <td>1.020000e+00</td>\n",
       "      <td>1529.000000</td>\n",
       "      <td>1.574000e+03</td>\n",
       "    </tr>\n",
       "    <tr>\n",
       "      <th>max</th>\n",
       "      <td>29395.000000</td>\n",
       "      <td>30031.000000</td>\n",
       "      <td>1129.518072</td>\n",
       "      <td>1313.762626</td>\n",
       "      <td>2071.403891</td>\n",
       "      <td>1374.562848</td>\n",
       "      <td>1427.267987</td>\n",
       "      <td>1789.677944</td>\n",
       "      <td>1574.360127</td>\n",
       "      <td>827.887713</td>\n",
       "      <td>...</td>\n",
       "      <td>4.136400e+06</td>\n",
       "      <td>1.953300e+06</td>\n",
       "      <td>7.257800e+06</td>\n",
       "      <td>7.264100e+06</td>\n",
       "      <td>1.298030e+07</td>\n",
       "      <td>2.332500e+04</td>\n",
       "      <td>2.284600e+04</td>\n",
       "      <td>6.496000e+00</td>\n",
       "      <td>15852.000000</td>\n",
       "      <td>2.301400e+04</td>\n",
       "    </tr>\n",
       "  </tbody>\n",
       "</table>\n",
       "<p>8 rows × 79 columns</p>\n",
       "</div>"
      ],
      "text/plain": [
       "       InventorySeasonallyAdjusted_AllHomes  InventoryRaw_AllHomes  \\\n",
       "count                         771744.000000          771744.000000   \n",
       "mean                             163.438201             163.469371   \n",
       "std                              451.979813             452.845056   \n",
       "min                                3.000000               2.000000   \n",
       "25%                               37.000000              37.000000   \n",
       "50%                               72.000000              72.000000   \n",
       "75%                              154.000000             154.000000   \n",
       "max                            29395.000000           30031.000000   \n",
       "\n",
       "       MedianListingPricePerSqft_1Bedroom  MedianListingPricePerSqft_2Bedroom  \\\n",
       "count                         7670.000000                        74574.000000   \n",
       "mean                           260.912038                          167.764079   \n",
       "std                            169.798120                          118.391115   \n",
       "min                             26.422764                           18.564356   \n",
       "25%                            152.631579                           95.744681   \n",
       "50%                            211.220755                          133.341651   \n",
       "75%                            326.499714                          195.039238   \n",
       "max                           1129.518072                         1313.762626   \n",
       "\n",
       "       MedianListingPricePerSqft_3Bedroom  MedianListingPricePerSqft_4Bedroom  \\\n",
       "count                       250633.000000                       144183.000000   \n",
       "mean                           145.076803                          154.369271   \n",
       "std                             93.495189                           98.637567   \n",
       "min                             19.561061                           20.084340   \n",
       "25%                             93.259047                          100.187527   \n",
       "50%                            120.592248                          126.864068   \n",
       "75%                            163.556465                          171.834625   \n",
       "max                           2071.403891                         1374.562848   \n",
       "\n",
       "       MedianListingPricePerSqft_5BedroomOrMore  \\\n",
       "count                              37653.000000   \n",
       "mean                                 193.162108   \n",
       "std                                  163.339295   \n",
       "min                                   13.507109   \n",
       "25%                                  104.269883   \n",
       "50%                                  140.528604   \n",
       "75%                                  217.749529   \n",
       "max                                 1427.267987   \n",
       "\n",
       "       MedianListingPricePerSqft_AllHomes  \\\n",
       "count                       551975.000000   \n",
       "mean                           151.277372   \n",
       "std                            100.278583   \n",
       "min                             20.293026   \n",
       "25%                             93.436666   \n",
       "50%                            124.423276   \n",
       "75%                            172.413793   \n",
       "max                           1789.677944   \n",
       "\n",
       "       MedianListingPricePerSqft_CondoCoop  \\\n",
       "count                         54821.000000   \n",
       "mean                            207.499579   \n",
       "std                             139.111165   \n",
       "min                              33.783784   \n",
       "25%                             119.265026   \n",
       "50%                             165.359396   \n",
       "75%                             255.524154   \n",
       "max                            1574.360127   \n",
       "\n",
       "       MedianListingPricePerSqft_DuplexTriplex  \\\n",
       "count                              7584.000000   \n",
       "mean                                102.725920   \n",
       "std                                  98.811634   \n",
       "min                                  13.849547   \n",
       "25%                                  46.080614   \n",
       "50%                                  73.041174   \n",
       "75%                                 123.478987   \n",
       "max                                 827.887713   \n",
       "\n",
       "                    ...                 ZHVI_BottomTier  ZHVI_CondoCoop  \\\n",
       "count               ...                    2.599397e+06    8.235740e+05   \n",
       "mean                ...                    1.445351e+05    1.826798e+05   \n",
       "std                 ...                    1.271271e+05    1.233000e+05   \n",
       "min                 ...                    1.620000e+04    2.650000e+04   \n",
       "25%                 ...                    7.500000e+04    1.076000e+05   \n",
       "50%                 ...                    1.109000e+05    1.471000e+05   \n",
       "75%                 ...                    1.671000e+05    2.174000e+05   \n",
       "max                 ...                    4.136400e+06    1.953300e+06   \n",
       "\n",
       "       ZHVI_MiddleTier  ZHVI_SingleFamilyResidence  ZHVI_TopTier  \\\n",
       "count     3.077548e+06                3.075331e+06  3.115759e+06   \n",
       "mean      1.898498e+05                1.967398e+05  2.802083e+05   \n",
       "std       1.791446e+05                1.969876e+05  2.974863e+05   \n",
       "min       1.660000e+04                1.660000e+04  2.390000e+04   \n",
       "25%       9.930000e+04                9.990000e+04  1.458000e+05   \n",
       "50%       1.426000e+05                1.444000e+05  2.068000e+05   \n",
       "75%       2.180000e+05                2.236000e+05  3.132000e+05   \n",
       "max       7.257800e+06                7.264100e+06  1.298030e+07   \n",
       "\n",
       "       ZRI_AllHomes  ZRI_AllHomesPlusMultifamily  ZriPerSqft_AllHomes  \\\n",
       "count  1.098167e+06                 1.100850e+06         1.009397e+06   \n",
       "mean   1.402930e+03                 1.391671e+03         9.108979e-01   \n",
       "std    7.509482e+02                 7.282890e+02         3.361167e-01   \n",
       "min    4.700000e+02                 4.700000e+02         3.440000e-01   \n",
       "25%    9.970000e+02                 9.930000e+02         6.980000e-01   \n",
       "50%    1.227000e+03                 1.222000e+03         8.320000e-01   \n",
       "75%    1.555000e+03                 1.545000e+03         1.020000e+00   \n",
       "max    2.332500e+04                 2.284600e+04         6.496000e+00   \n",
       "\n",
       "       Zri_MultiFamilyResidenceRental  Zri_SingleFamilyResidenceRental  \n",
       "count                   450219.000000                     1.098919e+06  \n",
       "mean                      1322.360111                     1.424704e+03  \n",
       "std                        528.027246                     8.083801e+02  \n",
       "min                        465.000000                     4.700000e+02  \n",
       "25%                        963.000000                     9.970000e+02  \n",
       "50%                       1220.000000                     1.231000e+03  \n",
       "75%                       1529.000000                     1.574000e+03  \n",
       "max                      15852.000000                     2.301400e+04  \n",
       "\n",
       "[8 rows x 79 columns]"
      ]
     },
     "execution_count": 34,
     "metadata": {},
     "output_type": "execute_result"
    }
   ],
   "source": [
    "#Understanding ranges and aggregations across the column types\n",
    "zillowdata.describe()"
   ]
  },
  {
   "cell_type": "code",
   "execution_count": 52,
   "metadata": {
    "scrolled": true
   },
   "outputs": [],
   "source": [
    "#To looks at aggregated statistics across a given date range - 2017\n",
    "zillowdata2017 = zillowdata.groupby('Date').sum()['2017-01-01':'2017-12-31']"
   ]
  },
  {
   "cell_type": "code",
   "execution_count": 49,
   "metadata": {},
   "outputs": [
    {
     "data": {
      "text/plain": [
       "count    1.200000e+01\n",
       "mean     5.879963e+08\n",
       "std      9.530158e+07\n",
       "min      2.892245e+08\n",
       "25%      6.101814e+08\n",
       "50%      6.196596e+08\n",
       "75%      6.237288e+08\n",
       "max      6.256290e+08\n",
       "Name: Sale_Prices, dtype: float64"
      ]
     },
     "execution_count": 49,
     "metadata": {},
     "output_type": "execute_result"
    }
   ],
   "source": [
    "#What was the highest selling day in 2017\n",
    "zillowdata2017['Sale_Prices'].describe()"
   ]
  },
  {
   "cell_type": "code",
   "execution_count": 7,
   "metadata": {},
   "outputs": [
    {
     "data": {
      "text/html": [
       "<div>\n",
       "<style scoped>\n",
       "    .dataframe tbody tr th:only-of-type {\n",
       "        vertical-align: middle;\n",
       "    }\n",
       "\n",
       "    .dataframe tbody tr th {\n",
       "        vertical-align: top;\n",
       "    }\n",
       "\n",
       "    .dataframe thead th {\n",
       "        text-align: right;\n",
       "    }\n",
       "</style>\n",
       "<table border=\"1\" class=\"dataframe\">\n",
       "  <thead>\n",
       "    <tr style=\"text-align: right;\">\n",
       "      <th></th>\n",
       "      <th>Sale_Counts</th>\n",
       "    </tr>\n",
       "    <tr>\n",
       "      <th>RegionName</th>\n",
       "      <th></th>\n",
       "    </tr>\n",
       "  </thead>\n",
       "  <tbody>\n",
       "    <tr>\n",
       "      <th>chicagocookil</th>\n",
       "      <td>334484.0</td>\n",
       "    </tr>\n",
       "    <tr>\n",
       "      <th>phoenixmaricopaaz</th>\n",
       "      <td>319316.0</td>\n",
       "    </tr>\n",
       "    <tr>\n",
       "      <th>las_vegasclarknv</th>\n",
       "      <td>312616.0</td>\n",
       "    </tr>\n",
       "    <tr>\n",
       "      <th>new_yorkqueensny</th>\n",
       "      <td>309052.0</td>\n",
       "    </tr>\n",
       "    <tr>\n",
       "      <th>los_angeleslos_angelesca</th>\n",
       "      <td>274907.0</td>\n",
       "    </tr>\n",
       "  </tbody>\n",
       "</table>\n",
       "</div>"
      ],
      "text/plain": [
       "                          Sale_Counts\n",
       "RegionName                           \n",
       "chicagocookil                334484.0\n",
       "phoenixmaricopaaz            319316.0\n",
       "las_vegasclarknv             312616.0\n",
       "new_yorkqueensny             309052.0\n",
       "los_angeleslos_angelesca     274907.0"
      ]
     },
     "execution_count": 7,
     "metadata": {},
     "output_type": "execute_result"
    }
   ],
   "source": [
    "# Which cities had the most sales of all time?\n",
    "zillowdata.groupby('RegionName')['RegionName', 'Sale_Counts'].sum().nlargest(5, 'Sale_Counts')"
   ]
  },
  {
   "cell_type": "code",
   "execution_count": 63,
   "metadata": {},
   "outputs": [
    {
     "data": {
      "text/html": [
       "<div>\n",
       "<style scoped>\n",
       "    .dataframe tbody tr th:only-of-type {\n",
       "        vertical-align: middle;\n",
       "    }\n",
       "\n",
       "    .dataframe tbody tr th {\n",
       "        vertical-align: top;\n",
       "    }\n",
       "\n",
       "    .dataframe thead th {\n",
       "        text-align: right;\n",
       "    }\n",
       "</style>\n",
       "<table border=\"1\" class=\"dataframe\">\n",
       "  <thead>\n",
       "    <tr style=\"text-align: right;\">\n",
       "      <th></th>\n",
       "      <th>Sale_Counts</th>\n",
       "    </tr>\n",
       "    <tr>\n",
       "      <th>RegionName</th>\n",
       "      <th></th>\n",
       "    </tr>\n",
       "  </thead>\n",
       "  <tbody>\n",
       "    <tr>\n",
       "      <th>new_yorkqueensny</th>\n",
       "      <td>46681.0</td>\n",
       "    </tr>\n",
       "    <tr>\n",
       "      <th>chicagocookil</th>\n",
       "      <td>39065.0</td>\n",
       "    </tr>\n",
       "    <tr>\n",
       "      <th>phoenixmaricopaaz</th>\n",
       "      <td>34460.0</td>\n",
       "    </tr>\n",
       "    <tr>\n",
       "      <th>las_vegasclarknv</th>\n",
       "      <td>33386.0</td>\n",
       "    </tr>\n",
       "    <tr>\n",
       "      <th>los_angeleslos_angelesca</th>\n",
       "      <td>31450.0</td>\n",
       "    </tr>\n",
       "  </tbody>\n",
       "</table>\n",
       "</div>"
      ],
      "text/plain": [
       "                          Sale_Counts\n",
       "RegionName                           \n",
       "new_yorkqueensny              46681.0\n",
       "chicagocookil                 39065.0\n",
       "phoenixmaricopaaz             34460.0\n",
       "las_vegasclarknv              33386.0\n",
       "los_angeleslos_angelesca      31450.0"
      ]
     },
     "execution_count": 63,
     "metadata": {},
     "output_type": "execute_result"
    }
   ],
   "source": [
    "# Which cities had the most sales in 2017?\n",
    "zillowdata2017Regions = zillowdata[zillowdata.Date.str.contains('2017')].groupby('RegionName')['RegionName','Sale_Counts'].sum()\n",
    "zillowdata2017Regions.nlargest(5,'Sale_Counts')"
   ]
  },
  {
   "cell_type": "code",
   "execution_count": 8,
   "metadata": {
    "scrolled": true
   },
   "outputs": [
    {
     "data": {
      "text/html": [
       "<div>\n",
       "<style scoped>\n",
       "    .dataframe tbody tr th:only-of-type {\n",
       "        vertical-align: middle;\n",
       "    }\n",
       "\n",
       "    .dataframe tbody tr th {\n",
       "        vertical-align: top;\n",
       "    }\n",
       "\n",
       "    .dataframe thead th {\n",
       "        text-align: right;\n",
       "    }\n",
       "</style>\n",
       "<table border=\"1\" class=\"dataframe\">\n",
       "  <thead>\n",
       "    <tr style=\"text-align: right;\">\n",
       "      <th></th>\n",
       "      <th>Sale_Prices</th>\n",
       "    </tr>\n",
       "    <tr>\n",
       "      <th>RegionName</th>\n",
       "      <th></th>\n",
       "    </tr>\n",
       "  </thead>\n",
       "  <tbody>\n",
       "    <tr>\n",
       "      <th>los_altossanta_claraca</th>\n",
       "      <td>209776400.0</td>\n",
       "    </tr>\n",
       "    <tr>\n",
       "      <th>saratogasanta_claraca</th>\n",
       "      <td>185892600.0</td>\n",
       "    </tr>\n",
       "    <tr>\n",
       "      <th>newport_beachorangeca</th>\n",
       "      <td>158783500.0</td>\n",
       "    </tr>\n",
       "    <tr>\n",
       "      <th>burlingamesan_mateoca</th>\n",
       "      <td>158401300.0</td>\n",
       "    </tr>\n",
       "    <tr>\n",
       "      <th>laguna_beachorangeca</th>\n",
       "      <td>151380500.0</td>\n",
       "    </tr>\n",
       "  </tbody>\n",
       "</table>\n",
       "</div>"
      ],
      "text/plain": [
       "                        Sale_Prices\n",
       "RegionName                         \n",
       "los_altossanta_claraca  209776400.0\n",
       "saratogasanta_claraca   185892600.0\n",
       "newport_beachorangeca   158783500.0\n",
       "burlingamesan_mateoca   158401300.0\n",
       "laguna_beachorangeca    151380500.0"
      ]
     },
     "execution_count": 8,
     "metadata": {},
     "output_type": "execute_result"
    }
   ],
   "source": [
    "# Which cities had the highest sales value of all time?\n",
    "zillowdata.groupby('RegionName')['RegionName', 'Sale_Prices'].sum().nlargest(5, 'Sale_Prices')"
   ]
  },
  {
   "cell_type": "code",
   "execution_count": 65,
   "metadata": {},
   "outputs": [
    {
     "data": {
      "text/html": [
       "<div>\n",
       "<style scoped>\n",
       "    .dataframe tbody tr th:only-of-type {\n",
       "        vertical-align: middle;\n",
       "    }\n",
       "\n",
       "    .dataframe tbody tr th {\n",
       "        vertical-align: top;\n",
       "    }\n",
       "\n",
       "    .dataframe thead th {\n",
       "        text-align: right;\n",
       "    }\n",
       "</style>\n",
       "<table border=\"1\" class=\"dataframe\">\n",
       "  <thead>\n",
       "    <tr style=\"text-align: right;\">\n",
       "      <th></th>\n",
       "      <th>Sale_Prices</th>\n",
       "    </tr>\n",
       "    <tr>\n",
       "      <th>RegionName</th>\n",
       "      <th></th>\n",
       "    </tr>\n",
       "  </thead>\n",
       "  <tbody>\n",
       "    <tr>\n",
       "      <th>new_yorkqueensny</th>\n",
       "      <td>42655500.0</td>\n",
       "    </tr>\n",
       "    <tr>\n",
       "      <th>new_york_millsoneidany</th>\n",
       "      <td>0.0</td>\n",
       "    </tr>\n",
       "    <tr>\n",
       "      <th>new_york_millsotter_tailmn</th>\n",
       "      <td>0.0</td>\n",
       "    </tr>\n",
       "    <tr>\n",
       "      <th>west_new_yorkhudsonnj</th>\n",
       "      <td>0.0</td>\n",
       "    </tr>\n",
       "  </tbody>\n",
       "</table>\n",
       "</div>"
      ],
      "text/plain": [
       "                            Sale_Prices\n",
       "RegionName                             \n",
       "new_yorkqueensny             42655500.0\n",
       "new_york_millsoneidany              0.0\n",
       "new_york_millsotter_tailmn          0.0\n",
       "west_new_yorkhudsonnj               0.0"
      ]
     },
     "execution_count": 65,
     "metadata": {},
     "output_type": "execute_result"
    }
   ],
   "source": [
    "#What were the top regions in New York and their total sale prices\n",
    "NYdata = zillowdata[zillowdata.RegionName.str.contains('new_york')]\n",
    "NYdata.groupby('RegionName')['RegionName', 'Sale_Prices'].sum().nlargest(5, 'Sale_Prices')"
   ]
  },
  {
   "cell_type": "code",
   "execution_count": 66,
   "metadata": {},
   "outputs": [
    {
     "data": {
      "image/png": "[encoded data removed]",
      "text/plain": [
       "<Figure size 720x360 with 1 Axes>"
      ]
     },
     "metadata": {},
     "output_type": "display_data"
    }
   ],
   "source": [
    "# How many rows are there per New York neighborhood?\n",
    "plt.figure(figsize = (10, 5))\n",
    "sns.countplot(NYdata.RegionName)\n",
    "plt.xticks(rotation = 70)\n",
    "plt.xlabel('')\n",
    "plt.ylabel('')\n",
    "plt.title('NY Neighborhoods Rows', loc = 'left', fontsize = 16);"
   ]
  },
  {
   "cell_type": "code",
   "execution_count": null,
   "metadata": {},
   "outputs": [],
   "source": [
    "#Open Question - is the city breakdown complete?  Millsotter has less rows than others"
   ]
  },
  {
   "cell_type": "code",
   "execution_count": 25,
   "metadata": {},
   "outputs": [
    {
     "data": {
      "text/plain": [
       "[<matplotlib.lines.Line2D at 0x111aa6eb8>]"
      ]
     },
     "execution_count": 25,
     "metadata": {},
     "output_type": "execute_result"
    },
    {
     "data": {
      "image/png": "[encoded data removed]",
      "text/plain": [
       "<Figure size 432x288 with 1 Axes>"
      ]
     },
     "metadata": {},
     "output_type": "display_data"
    }
   ],
   "source": [
    "# What is the trend of Sales Data in Queens, NY\n",
    "QueensData = zillowdata[zillowdata.RegionName.str.contains('new_yorkqueensny')].groupby('Date')['Date','Sale_Counts'].sum()\n",
    "plt.plot(QueensData)"
   ]
  },
  {
   "cell_type": "code",
   "execution_count": null,
   "metadata": {},
   "outputs": [],
   "source": [
    "#Looks like the Queens Sales Count Data was only live for less than half the time series record"
   ]
  },
  {
   "cell_type": "code",
   "execution_count": 28,
   "metadata": {},
   "outputs": [
    {
     "data": {
      "text/plain": [
       "[<matplotlib.lines.Line2D at 0x1125dea20>]"
      ]
     },
     "execution_count": 28,
     "metadata": {},
     "output_type": "execute_result"
    },
    {
     "data": {
      "image/png": "[encoded data removed]",
      "text/plain": [
       "<Figure size 432x288 with 1 Axes>"
      ]
     },
     "metadata": {},
     "output_type": "display_data"
    }
   ],
   "source": [
    "QueensData2011_2017 = QueensData['2011-01-01':'2017-12-31']\n",
    "plt.plot(QueensData2011_2017)"
   ]
  },
  {
   "cell_type": "code",
   "execution_count": null,
   "metadata": {},
   "outputs": [],
   "source": [
    "#In terms of number of Sales, properties in Queens have stayed between 2500 and 5000 / month for the past 7 years"
   ]
  },
  {
   "cell_type": "code",
   "execution_count": 29,
   "metadata": {},
   "outputs": [
    {
     "data": {
      "text/plain": [
       "[<matplotlib.lines.Line2D at 0x11272e4a8>]"
      ]
     },
     "execution_count": 29,
     "metadata": {},
     "output_type": "execute_result"
    },
    {
     "data": {
      "image/png": "[encoded data removed]",
      "text/plain": [
       "<Figure size 432x288 with 1 Axes>"
      ]
     },
     "metadata": {},
     "output_type": "display_data"
    }
   ],
   "source": [
    "#But how about average home prices.  How have average property values trending over the past 7 years\n",
    "QueensDataSales = zillowdata[zillowdata.RegionName.str.contains('new_yorkqueensny')].groupby('Date')['Date','Sale_Prices'].mean()\n",
    "QueensDataSales2011_2017 = QueensDataSales['2011-01-01':'2017-12-31']\n",
    "plt.plot(QueensDataSales2011_2017)"
   ]
  },
  {
   "cell_type": "code",
   "execution_count": 67,
   "metadata": {},
   "outputs": [],
   "source": [
    "#Since 2012, the average property value in Queens has risen from $460k to around $540k"
   ]
  },
  {
   "cell_type": "code",
   "execution_count": null,
   "metadata": {},
   "outputs": [],
   "source": []
  }
 ],
 "metadata": {
  "kernelspec": {
   "display_name": "Python 3",
   "language": "python",
   "name": "python3"
  },
  "language_info": {
   "codemirror_mode": {
    "name": "ipython",
    "version": 3
   },
   "file_extension": ".py",
   "mimetype": "text/x-python",
   "name": "python",
   "nbconvert_exporter": "python",
   "pygments_lexer": "ipython3",
   "version": "3.6.5"
  }
 },
 "nbformat": 4,
 "nbformat_minor": 2
}
