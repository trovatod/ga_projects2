{
 "cells": [
  {
   "cell_type": "markdown",
   "metadata": {},
   "source": [
    "# Regression Assignment - Ames Housing Dataset\n",
    "Daniel Trovato\n",
    "\n",
    "This assignment is a regression on the Ames Iowa Housing Dataset.  It includes feature engineering and various regression models."
   ]
  },
  {
   "cell_type": "markdown",
   "metadata": {},
   "source": [
    "### Importing the python packages and data"
   ]
  },
  {
   "cell_type": "code",
   "execution_count": 29,
   "metadata": {},
   "outputs": [],
   "source": [
    "#Importing the python data and regression packages\n",
    "%matplotlib notebook\n",
    "import matplotlib.pyplot as plt\n",
    "import numpy as np\n",
    "import pandas as pd\n",
    "import seaborn as sns\n",
    "import statsmodels.formula.api as smf\n"
   ]
  },
  {
   "cell_type": "code",
   "execution_count": 30,
   "metadata": {
    "scrolled": true
   },
   "outputs": [],
   "source": [
    "#Importing the data\n",
    "ames = pd.read_csv('data/ames_housing.csv')"
   ]
  },
  {
   "cell_type": "markdown",
   "metadata": {},
   "source": [
    "### Cleaning the data"
   ]
  },
  {
   "cell_type": "code",
   "execution_count": null,
   "metadata": {},
   "outputs": [],
   "source": [
    "#The below data-points are incomplete\n",
    "LotFrontage\n",
    "Alley\n",
    "MasVnrType\t1452\tnon-null\tobject\n",
    "MasVnrArea\t1452\tnon-null\tfloat64\n",
    "BsmtQual\t1423\tnon-null\tobject\n",
    "BsmtCond\t1423\tnon-null\tobject\n",
    "BsmtExposure\t1422\tnon-null\tobject\n",
    "BsmtFinType1\t1423\tnon-null\tobject\n",
    "BsmtFinType2\t1422\tnon-null\tobject\n",
    "Electrical\t1459\tnon-null\tobject\n",
    "FireplaceQu\t770\tnon-null\tobject\n",
    "GarageType\t1379\tnon-null\tobject\n",
    "GarageYrBlt\t1379\tnon-null\tfloat64\n",
    "GarageFinish\t1379\tnon-null\tobject\n",
    "GarageQual\t1379\tnon-null\tobject\n",
    "GarageCond\t1379\tnon-null\tobject\n",
    "PoolQC\t7\tnon-null\tobject\n",
    "Fence\t281\tnon-null\tobject\n",
    "MiscFeature\t54\tnon-null\tobject"
   ]
  },
  {
   "cell_type": "code",
   "execution_count": 36,
   "metadata": {},
   "outputs": [],
   "source": [
    "ames['Alley'] = ames['Alley'].fillna(\"None\")\n",
    "ames['LotFrontage'] = ames['LotFrontage'].fillna(0)\n",
    "ames['MasVnrType'] = ames['MasVnrType'].fillna(\"None\")\n",
    "ames['MasVnrArea'] = ames['MasVnrArea'].fillna(0)\n",
    "ames['BsmtQual'] = ames['BsmtQual'].fillna(\"No\")\n",
    "ames['BsmtCond'] = ames['BsmtCond'].fillna(\"No\")\n",
    "ames['BsmtExposure'] = ames['BsmtExposure'].fillna(\"No\")\n",
    "ames['BsmtFinType1'] = ames['BsmtFinType1'].fillna(\"No\")\n",
    "ames['BsmtFinType2'] = ames['BsmtFinType2'].fillna(\"No\")\n",
    "ames['Electrical'] = ames['Electrical'].fillna(\"None\")\n",
    "ames['FireplaceQu'] = ames['FireplaceQu'].fillna(\"None\")\n",
    "ames['GarageType'] = ames['GarageType'].fillna(\"None\")\n",
    "ames['GarageYrBlt'] = ames['GarageYrBlt'].fillna(0)\n",
    "ames['GarageFinish'] = ames['GarageFinish'].fillna(\"None\")\n",
    "ames['GarageQual'] = ames['GarageQual'].fillna(\"None\")\n",
    "ames['GarageCond'] = ames['GarageCond'].fillna(\"None\")\n",
    "ames['PoolQC'] = ames['PoolQC'].fillna(\"None\")\n",
    "ames['Fence'] = ames['Fence'].fillna(\"None\")\n",
    "ames['MiscFeature'] = ames['MiscFeature'].fillna(\"None\")"
   ]
  },
  {
   "cell_type": "code",
   "execution_count": 39,
   "metadata": {},
   "outputs": [
    {
     "name": "stdout",
     "output_type": "stream",
     "text": [
      "<class 'pandas.core.frame.DataFrame'>\n",
      "RangeIndex: 1460 entries, 0 to 1459\n",
      "Data columns (total 81 columns):\n",
      "Id               1460 non-null int64\n",
      "MSSubClass       1460 non-null int64\n",
      "MSZoning         1460 non-null object\n",
      "LotFrontage      1460 non-null float64\n",
      "LotArea          1460 non-null int64\n",
      "Street           1460 non-null object\n",
      "Alley            1460 non-null object\n",
      "LotShape         1460 non-null object\n",
      "LandContour      1460 non-null object\n",
      "Utilities        1460 non-null object\n",
      "LotConfig        1460 non-null object\n",
      "LandSlope        1460 non-null object\n",
      "Neighborhood     1460 non-null object\n",
      "Condition1       1460 non-null object\n",
      "Condition2       1460 non-null object\n",
      "BldgType         1460 non-null object\n",
      "HouseStyle       1460 non-null object\n",
      "OverallQual      1460 non-null int64\n",
      "OverallCond      1460 non-null int64\n",
      "YearBuilt        1460 non-null int64\n",
      "YearRemodAdd     1460 non-null int64\n",
      "RoofStyle        1460 non-null object\n",
      "RoofMatl         1460 non-null object\n",
      "Exterior1st      1460 non-null object\n",
      "Exterior2nd      1460 non-null object\n",
      "MasVnrType       1460 non-null object\n",
      "MasVnrArea       1460 non-null float64\n",
      "ExterQual        1460 non-null object\n",
      "ExterCond        1460 non-null object\n",
      "Foundation       1460 non-null object\n",
      "BsmtQual         1460 non-null int64\n",
      "BsmtCond         1460 non-null int64\n",
      "BsmtExposure     1460 non-null object\n",
      "BsmtFinType1     1460 non-null object\n",
      "BsmtFinSF1       1460 non-null int64\n",
      "BsmtFinType2     1460 non-null object\n",
      "BsmtFinSF2       1460 non-null int64\n",
      "BsmtUnfSF        1460 non-null int64\n",
      "TotalBsmtSF      1460 non-null int64\n",
      "Heating          1460 non-null object\n",
      "HeatingQC        1460 non-null object\n",
      "CentralAir       1460 non-null object\n",
      "Electrical       1460 non-null object\n",
      "1stFlrSF         1460 non-null int64\n",
      "2ndFlrSF         1460 non-null int64\n",
      "LowQualFinSF     1460 non-null int64\n",
      "GrLivArea        1460 non-null int64\n",
      "BsmtFullBath     1460 non-null int64\n",
      "BsmtHalfBath     1460 non-null int64\n",
      "FullBath         1460 non-null int64\n",
      "HalfBath         1460 non-null int64\n",
      "BedroomAbvGr     1460 non-null int64\n",
      "KitchenAbvGr     1460 non-null int64\n",
      "KitchenQual      1460 non-null object\n",
      "TotRmsAbvGrd     1460 non-null int64\n",
      "Functional       1460 non-null object\n",
      "Fireplaces       1460 non-null int64\n",
      "FireplaceQu      1460 non-null object\n",
      "GarageType       1460 non-null object\n",
      "GarageYrBlt      1460 non-null float64\n",
      "GarageFinish     1460 non-null object\n",
      "GarageCars       1460 non-null int64\n",
      "GarageArea       1460 non-null int64\n",
      "GarageQual       1460 non-null object\n",
      "GarageCond       1460 non-null object\n",
      "PavedDrive       1460 non-null object\n",
      "WoodDeckSF       1460 non-null int64\n",
      "OpenPorchSF      1460 non-null int64\n",
      "EnclosedPorch    1460 non-null int64\n",
      "3SsnPorch        1460 non-null int64\n",
      "ScreenPorch      1460 non-null int64\n",
      "PoolArea         1460 non-null int64\n",
      "PoolQC           1460 non-null object\n",
      "Fence            1460 non-null object\n",
      "MiscFeature      1460 non-null object\n",
      "MiscVal          1460 non-null int64\n",
      "MoSold           1460 non-null int64\n",
      "YrSold           1460 non-null int64\n",
      "SaleType         1460 non-null object\n",
      "SaleCondition    1460 non-null object\n",
      "SalePrice        1460 non-null int64\n",
      "dtypes: float64(3), int64(37), object(41)\n",
      "memory usage: 924.0+ KB\n"
     ]
    }
   ],
   "source": [
    "ames.info()"
   ]
  },
  {
   "cell_type": "code",
   "execution_count": null,
   "metadata": {},
   "outputs": [],
   "source": [
    "#Converting some of the quality variables into numbers"
   ]
  },
  {
   "cell_type": "code",
   "execution_count": 47,
   "metadata": {},
   "outputs": [],
   "source": [
    "ames = ames.replace({\"GarageQual\" : {\"None\" : 0, \"Po\" : 1, \"Fa\" : 2, \"TA\": 3, \"Gd\" : 4, \"Ex\" : 5}})"
   ]
  },
  {
   "cell_type": "code",
   "execution_count": 45,
   "metadata": {},
   "outputs": [],
   "source": [
    "ames = ames.replace({\"BsmtQual\" : {\"No\" : 0, \"Po\" : 1, \"Fa\" : 2, \"TA\": 3, \"Gd\" : 4, \"Ex\" : 5}})"
   ]
  },
  {
   "cell_type": "code",
   "execution_count": null,
   "metadata": {},
   "outputs": [],
   "source": [
    "ames = ames.replace({\"BsmtCond\": {\"No\": 0, \"Po\": 1, \"Fa\": 2, \"TA\": 3, \"Gd\": 4, \"Ex\": 5}})"
   ]
  },
  {
   "cell_type": "code",
   "execution_count": 59,
   "metadata": {},
   "outputs": [],
   "source": [
    "ames = ames.replace({\"KitchenQual\": {\"No\": 0, \"Po\": 1, \"Fa\": 2, \"TA\": 3, \"Gd\": 4, \"Ex\": 5}})"
   ]
  },
  {
   "cell_type": "markdown",
   "metadata": {},
   "source": [
    "### Feature Engineering"
   ]
  },
  {
   "cell_type": "code",
   "execution_count": 62,
   "metadata": {},
   "outputs": [],
   "source": [
    "ames['BasementOverall'] = ames['BsmtCond'] * ames['BsmtQual']\n",
    "ames['OverallGrade'] = ames['OverallQual'] * ames['OverallCond']\n",
    "ames['GarageOverall'] = ames['GarageQual'] * ames['GarageCond']\n",
    "ames['PoolOverall'] = ames['PoolArea'] * ames['PoolQC']\n",
    "#Common wisdom is to redo your kitchen before selling your house.  Is it correct?\n",
    "ames['KitchenScore'] = ames['KitchenAbvGr']*ames['KitchenQual']\n",
    "#Adding an overall score to the commonly held most valuable parts of a home, bedrooms, baths, and kitchen\n",
    "ames['LivingOverall'] = ames['BedroomAbvGr'] + ames ['FullBath'] + (0.5*ames['HalfBath']) + ames['KitchenScore']"
   ]
  },
  {
   "cell_type": "markdown",
   "metadata": {},
   "source": [
    "### Linear Regression"
   ]
  },
  {
   "cell_type": "code",
   "execution_count": 74,
   "metadata": {},
   "outputs": [],
   "source": [
    "#Importing the regression packages\n",
    "from sklearn.linear_model import LinearRegression\n",
    "from sklearn.model_selection import train_test_split\n",
    "from sklearn.metrics import mean_squared_error"
   ]
  },
  {
   "cell_type": "code",
   "execution_count": 72,
   "metadata": {},
   "outputs": [
    {
     "data": {
      "text/plain": [
       "LinearRegression(copy_X=True, fit_intercept=True, n_jobs=1, normalize=False)"
      ]
     },
     "execution_count": 72,
     "metadata": {},
     "output_type": "execute_result"
    }
   ],
   "source": [
    "lm = LinearRegression()\n",
    "X = ames['GrLivArea']\n",
    "y = ames['SalePrice']\n",
    "lm.fit(X.values.reshape(-1,1), y)"
   ]
  },
  {
   "cell_type": "code",
   "execution_count": 73,
   "metadata": {},
   "outputs": [
    {
     "data": {
      "text/plain": [
       "array([107.13035897])"
      ]
     },
     "execution_count": 73,
     "metadata": {},
     "output_type": "execute_result"
    }
   ],
   "source": [
    "lm.coef_"
   ]
  },
  {
   "cell_type": "code",
   "execution_count": 76,
   "metadata": {},
   "outputs": [],
   "source": [
    "predictions = lm.predict(X.values.reshape(-1,1))"
   ]
  },
  {
   "cell_type": "code",
   "execution_count": 77,
   "metadata": {},
   "outputs": [],
   "source": [
    "mse = mean_squared_error(y, predictions)"
   ]
  },
  {
   "cell_type": "code",
   "execution_count": 78,
   "metadata": {},
   "outputs": [],
   "source": [
    "rmse = np.sqrt(mse)"
   ]
  },
  {
   "cell_type": "code",
   "execution_count": 79,
   "metadata": {},
   "outputs": [
    {
     "name": "stdout",
     "output_type": "stream",
     "text": [
      "MSE:  3139843209.6665273 \n",
      "RMSE:  56034.303865279944\n"
     ]
    }
   ],
   "source": [
    "print(\"MSE: \", mse, \"\\nRMSE: \", rmse)"
   ]
  },
  {
   "cell_type": "code",
   "execution_count": null,
   "metadata": {},
   "outputs": [],
   "source": []
  },
  {
   "cell_type": "code",
   "execution_count": null,
   "metadata": {},
   "outputs": [],
   "source": []
  }
 ],
 "metadata": {
  "kernelspec": {
   "display_name": "Python 3",
   "language": "python",
   "name": "python3"
  },
  "language_info": {
   "codemirror_mode": {
    "name": "ipython",
    "version": 3
   },
   "file_extension": ".py",
   "mimetype": "text/x-python",
   "name": "python",
   "nbconvert_exporter": "python",
   "pygments_lexer": "ipython3",
   "version": "3.6.5"
  }
 },
 "nbformat": 4,
 "nbformat_minor": 2
}
